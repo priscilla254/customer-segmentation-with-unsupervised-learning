{
 "cells": [
  {
   "cell_type": "markdown",
   "id": "6a36b477-f332-40d1-8e3b-b8d5db8003e9",
   "metadata": {},
   "source": [
    "# Customer Segmentation\n",
    "\n",
    "In this practical we need to work on customer segmentation using unsupervised learning.\n",
    "\n",
    "You are given a dataset that represents information collected on customers to an ammerican shopping centre (a mall).\n",
    "The dataset has a relatively small set of features. The objective is to identify groups of customers that have similar patterns based on the dataset. As part of this analysis you should try to characterise the groups in terms of the common characteristics they have.\n",
    "\n",
    "### Dataset\n",
    "\n",
    "- CustomerID: Unique ID assigned to the customer\n",
    "- Gender: Gender of the customer\n",
    "- Age: Age of the customer\n",
    "- Annual Income (k$): Annual Income of the customeer\n",
    "- Spending Score (1-100): Score assigned by the mall based on customer behavior and spending nature\n",
    "\n"
   ]
  },
  {
   "cell_type": "markdown",
   "id": "92dd2a2f-a88a-4e55-b617-aeec208cbef3",
   "metadata": {},
   "source": [
    "## Data Exploration\n",
    "\n",
    "Similar to previous projects the first step is to load the dataset and try to understand our data. Hint: follow the steps you used in previous practicals, to perform the tasks indicated in the following sections.\n",
    "\n",
    "The dataset is located in the csv file: `dataset/Mall_Customers.csv`"
   ]
  },
  {
   "cell_type": "code",
   "execution_count": null,
   "id": "bb6022d8-0f04-4c66-896b-daee083f0ec1",
   "metadata": {},
   "outputs": [],
   "source": [
    "# ToDo: import libraries\n"
   ]
  },
  {
   "cell_type": "code",
   "execution_count": null,
   "id": "a0ea5545-b1e5-41bc-985c-db05b6cec215",
   "metadata": {},
   "outputs": [],
   "source": [
    "# ToDo: load the dataset\n"
   ]
  },
  {
   "cell_type": "code",
   "execution_count": null,
   "id": "ec318c0f-ad0d-4af6-bd71-1c2b0cf6b970",
   "metadata": {},
   "outputs": [],
   "source": [
    "# ToDo: Check the dataset\n",
    "# Look at a snapshot of your data\n",
    "# Check their datatypes and basic stats"
   ]
  },
  {
   "cell_type": "code",
   "execution_count": null,
   "id": "4edd34c5-a65d-4157-9b44-48adfc25fcbf",
   "metadata": {},
   "outputs": [],
   "source": [
    "# ToDo: Check for null values"
   ]
  },
  {
   "cell_type": "markdown",
   "id": "34931487-ed63-4246-9c00-fc91b91205a1",
   "metadata": {},
   "source": [
    "By now you should have a high level understanding of what features you have in your dataset"
   ]
  },
  {
   "cell_type": "markdown",
   "id": "a6ee2278-b19e-441b-a930-21092b546ab5",
   "metadata": {},
   "source": [
    "#### Simple Exploratory Data Analysis\n",
    "Your next step is to perform some simple statistical analysis on your dataset. The objective is to look for any 'unusual' or 'unexpected' patterns in your dataset and in the relationship between features. You are also looking for any 'hints' that may indicate how the feature values may help in the customer segmentation process."
   ]
  },
  {
   "cell_type": "code",
   "execution_count": null,
   "id": "0f325f7a-f890-4f48-a4dc-1381add21b00",
   "metadata": {},
   "outputs": [],
   "source": [
    "# ToDo: plot the distributions of values for each feature\n"
   ]
  },
  {
   "cell_type": "code",
   "execution_count": null,
   "id": "acd6186f-0227-4d2d-9697-863c5f3bc34d",
   "metadata": {},
   "outputs": [],
   "source": [
    "\n",
    "# Counting the values for the Gender feature (categorical)\n",
    "\n",
    "# seaborn is a statistical data visualisation library that simplifies the creation of specific plots \n",
    "import seaborn as sns\n",
    "\n",
    "plt.figure(1, figsize = (10, 2))\n",
    "sns.countplot( y = 'Gender', data = df)\n",
    "plt.show()"
   ]
  },
  {
   "cell_type": "markdown",
   "id": "2635dadf-ad1d-424b-81eb-3a42bf3afcb7",
   "metadata": {},
   "source": [
    "### Scatterplots\n",
    "\n",
    "Scanterplots can give you an indication if there are some whays that your dataset is grouped into clusters.\n",
    "\n",
    "Try gennerating a scatter_matrix using all the numerical features in your dataset. Check Lecture 3 for an example of using scatter_matrix."
   ]
  },
  {
   "cell_type": "code",
   "execution_count": null,
   "id": "c6fbf3ce-f755-4085-9394-4f576b89098f",
   "metadata": {},
   "outputs": [],
   "source": [
    "# ToDo: plot scatter plots between features\n"
   ]
  },
  {
   "cell_type": "markdown",
   "id": "88cb6bac-a92b-4fd6-a8fd-bc8dac91c8f9",
   "metadata": {},
   "source": [
    "### Groupping by Gender\n",
    "As gender is not included in this analysis, we can try to generate scatter plots with values grouped by gender. Our aim is to see how gender may affect the groupping of values.\n",
    "\n",
    "Using Seaborn we can create such scatter plots realtively easily. See the example below, and produce similar plots for all other combinations of features."
   ]
  },
  {
   "cell_type": "code",
   "execution_count": null,
   "id": "e547f2ad-9e87-49cc-8da1-76baeefa3662",
   "metadata": {},
   "outputs": [],
   "source": [
    "\n",
    "plt.figure(1 , figsize = (15 , 6))\n",
    "\n",
    "plt.scatter(x = 'Annual Income (k$)', y = 'Spending Score (1-100)' , \n",
    "            data = df[df['Gender'] == 'Male'],\n",
    "            s = 200 , alpha = 0.5 , label = 'Male')\n",
    "plt.scatter(x = 'Annual Income (k$)', y = 'Spending Score (1-100)' , \n",
    "            data = df[df['Gender'] == 'Female'],\n",
    "            s = 200 , alpha = 0.5 , label = 'Male')\n",
    "plt.xlabel('Annual Income'), plt.ylabel('Spending Score') \n",
    "plt.title('Annual Income vs Spending Score w.r.t Gender')\n",
    "plt.legend()\n",
    "plt.show()"
   ]
  },
  {
   "cell_type": "code",
   "execution_count": null,
   "id": "3978f087-f055-4a11-93ef-f0ce0a73bcc6",
   "metadata": {},
   "outputs": [],
   "source": [
    "# ToDo produce scatter plots per gender for Age - Income, and Age - Spending."
   ]
  },
  {
   "cell_type": "markdown",
   "id": "cb424c1c-c112-4703-8007-0b7eb7f80ca9",
   "metadata": {},
   "source": [
    "## Observations\n",
    "\n",
    "At this stage you should be able to make the following observations\n",
    "- CustomerID is not a useful feature. It does not represent any information that would be valuable for groupping customers\n",
    "- The dataset has been cleaned. There are no null values or missing values. There is good distribution of values, without any obvious erroneous values or outliers.\n",
    "- There are some visible distinctions of groups when considering Income vs Spending.\n",
    "- There are some not so visible distinctions of groups when considering Age vs Spending.\n",
    "- Gender values do not indicate any significant patterns when looking at scaterplots."
   ]
  },
  {
   "cell_type": "markdown",
   "id": "71e37483-0d4e-4082-b152-dc1a5d4ba6a9",
   "metadata": {},
   "source": [
    "# Clustering with K-means\n",
    "\n",
    "We will work with K-means clustering using only the numerical values of the dataset.\n",
    "\n",
    "First create a version of the dataset where you drop the `CustomerID` and `Gender`."
   ]
  },
  {
   "cell_type": "code",
   "execution_count": null,
   "id": "fcab551a-484e-4c9a-8e61-18e6f94dd0f1",
   "metadata": {},
   "outputs": [],
   "source": [
    "# ToDo: create dataset for clustering\n"
   ]
  },
  {
   "cell_type": "markdown",
   "id": "669e5ea5-1bc4-4a63-ba83-d1e9743bac37",
   "metadata": {},
   "source": [
    "In order to estimate the right number for K, you will need to work through a range of potential values and calculate the inertia for each model. Then you will plot the inertia values and try to identify the 'elbow' in the plot.\n",
    "\n",
    "*TODO*\n",
    "- Create your raw data matrix using `.values` from the pandas dataframe\n",
    "- Create an empty array called `inertia`. You will usa that to store multiple inertia values.\n",
    "- Create a for-loop with a variable `n` going through a range of values from 1 to 10 (`range(1,11)`)\n",
    "    - In the loop create a KMeans model with the number of `n` clusters - it is good to set a fixed `random_state`.\n",
    "    - Fit the dataset in the model\n",
    "    - Retrieve the `.inertia_` parameter and append it to your inertial list"
   ]
  },
  {
   "cell_type": "code",
   "execution_count": null,
   "id": "38508af2-4c2c-46cd-a95d-729e04d1775d",
   "metadata": {},
   "outputs": [],
   "source": [
    "# ToDo: collect inertia values for multiple 'k' values"
   ]
  },
  {
   "cell_type": "code",
   "execution_count": null,
   "id": "0743f9b5-6a7a-4e9a-ba2d-87193f790f34",
   "metadata": {},
   "outputs": [],
   "source": [
    "# Plot the inertia values\n",
    "\n",
    "plt.figure(1 , figsize = (15 ,6))\n",
    "plt.plot(np.arange(1 , 11) , inertia , 'o')\n",
    "plt.plot(np.arange(1 , 11) , inertia , '-' , alpha = 0.5)\n",
    "plt.xlabel('Number of Clusters') , plt.ylabel('Inertia')\n",
    "plt.show()"
   ]
  },
  {
   "cell_type": "markdown",
   "id": "b84bd674-f18f-4acd-9c32-8ee74590a14b",
   "metadata": {},
   "source": [
    "#### Observation\n",
    "You should observe an elbow point around k=6"
   ]
  },
  {
   "cell_type": "markdown",
   "id": "88073ab0-597c-43e7-98d1-a36ecb23ef9b",
   "metadata": {},
   "source": [
    "# Characterise the clusters\n",
    "\n",
    "You need to identify the customer characteristics for each cluster, for final reporting.\n",
    "\n",
    "First you need to train the K-means model using the right number of clusters.\n",
    "Then retrieve the `labels_` from the trained model which represent their clusters.\n",
    "\n",
    "Create a copy of your dataset using `.copy()` and then append a column with the cluster numbers, titled `Cluster`."
   ]
  },
  {
   "cell_type": "code",
   "execution_count": null,
   "id": "269752ca-bd32-4b37-ab60-820d0b6d85ed",
   "metadata": {},
   "outputs": [],
   "source": [
    "# ToDo: train your K-Means using the right number of clusters\n",
    "\n",
    "\n",
    "# ToDo: extract the list of labels and append them as a \n",
    "#       column titled `Cluster` - Use a copy of your dataset"
   ]
  },
  {
   "cell_type": "markdown",
   "id": "1d3c0607-2ba2-407c-8391-140ddf76aec5",
   "metadata": {},
   "source": [
    "Now you can generate scatterplots with your dataset, and group them according to their cluster. This visualisation will help you see how the different clusters are shaped. (the code assumes that the dataset copy is named `df_clustered`)"
   ]
  },
  {
   "cell_type": "code",
   "execution_count": null,
   "id": "8940c08b-f343-4b2c-b604-f9455ad1d431",
   "metadata": {},
   "outputs": [],
   "source": [
    "plt.figure(1 , figsize = (15 , 6))\n",
    "\n",
    "for c in range(0, 6):\n",
    "    plt.scatter(x = 'Age' , y = 'Annual Income (k$)' , \n",
    "                data = df_clustered[df_clustered['Cluster'] == c],\n",
    "                s = 200 , alpha = 0.5 , label = c)\n",
    "\n",
    "plt.xlabel('Age'), plt.ylabel('Annual Income (k$)') \n",
    "plt.title('Age vs Annual Income w.r.t Cluster')\n",
    "plt.legend()\n",
    "plt.show()"
   ]
  },
  {
   "cell_type": "markdown",
   "id": "8a9b5a55-267b-4842-9a56-62e627f590c4",
   "metadata": {},
   "source": [
    "### Observation from this scatter plot\n",
    "- Cluster 0: High income\n",
    "- Cluster 1: Mid-range income, Older\n",
    "- Cluster 2: High income, midle age\n",
    "- Cluster 3: Mid-range income, young/mid age\n",
    "- Cluster 4: Low income\n",
    "- Cluster 5: Low income, young"
   ]
  },
  {
   "cell_type": "code",
   "execution_count": null,
   "id": "7c91320a-367f-4e2e-95d6-8b80b362051d",
   "metadata": {},
   "outputs": [],
   "source": [
    "# ToDo: Generate similar scatter plots for Age vs Spending, and Income vs Spending."
   ]
  },
  {
   "cell_type": "markdown",
   "id": "52ef8d33-80b6-43d6-bb1b-c6f099a87091",
   "metadata": {},
   "source": [
    "## Final Observations\n",
    "\n",
    "You should be able to characterise the cluster with observations like the ones here:\n",
    "\n",
    "- Cluster 0: High income, Low spending, Any age\n",
    "- Cluster 1: Mid income, Mid spending, Older\n",
    "- Cluster 2: High income, High spending, Middle age\n",
    "- Cluster 3: Mid income, Mid spending, Young/Middle age\n",
    "- Cluster 4: Low income, Low spending, Any age\n",
    "- Cluster 5: Low income, High spending, Young"
   ]
  },
  {
   "cell_type": "markdown",
   "id": "57c3c736-7c50-4c7e-b066-b4edd43ab748",
   "metadata": {},
   "source": [
    "# 3D Visualisation\n",
    "Visualising multidimentional data can be difficult. Because we are working with only 3 features, we can produce a 3-D visualisation and highlight the different clusters.\n",
    "\n",
    "The following code uses the library plotly to produce these 3D visualisations."
   ]
  },
  {
   "cell_type": "code",
   "execution_count": null,
   "id": "3935fbb1-0a50-463e-8d56-2ffe50138587",
   "metadata": {},
   "outputs": [],
   "source": [
    "import plotly as py\n",
    "import plotly.graph_objs as go\n",
    "\n",
    "trace1 = go.Scatter3d(\n",
    "    x= df_clustered['Age'],\n",
    "    y= df_clustered['Spending Score (1-100)'],\n",
    "    z= df_clustered['Annual Income (k$)'],\n",
    "    mode='markers',\n",
    "     marker=dict(\n",
    "        color = df_clustered['Cluster'], \n",
    "        size= 10,\n",
    "        line=dict(\n",
    "            color= df_clustered['Cluster'],\n",
    "            width= 12\n",
    "        ),\n",
    "        opacity=0.8\n",
    "     )\n",
    ")\n",
    "data = [trace1]\n",
    "layout = go.Layout(\n",
    "    margin=dict(\n",
    "        l=0,\n",
    "        r=0,\n",
    "        b=0,\n",
    "        t=0\n",
    "    ),\n",
    "    title= 'Clusters',\n",
    "    scene = dict(\n",
    "            xaxis = dict(title  = 'Age'),\n",
    "            yaxis = dict(title  = 'Spending Score'),\n",
    "            zaxis = dict(title  = 'Annual Income')\n",
    "        )\n",
    ")\n",
    "fig = go.Figure(data=data, layout=layout)\n",
    "py.offline.iplot(fig)"
   ]
  },
  {
   "cell_type": "code",
   "execution_count": null,
   "id": "9d4107f8-f491-4f78-8b09-c40d7e06bf1e",
   "metadata": {},
   "outputs": [],
   "source": []
  }
 ],
 "metadata": {
  "kernelspec": {
   "display_name": "Python 3 (ipykernel)",
   "language": "python",
   "name": "python3"
  },
  "language_info": {
   "codemirror_mode": {
    "name": "ipython",
    "version": 3
   },
   "file_extension": ".py",
   "mimetype": "text/x-python",
   "name": "python",
   "nbconvert_exporter": "python",
   "pygments_lexer": "ipython3",
   "version": "3.11.10"
  }
 },
 "nbformat": 4,
 "nbformat_minor": 5
}
